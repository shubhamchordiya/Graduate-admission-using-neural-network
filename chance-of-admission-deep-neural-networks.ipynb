{
 "cells": [
  {
   "cell_type": "markdown",
   "metadata": {
    "_uuid": "94199604c1cff0c64bc60e5d03176294e81bd959"
   },
   "source": [
    "**Welcome**\n",
    "\n",
    "Hello, guys!! You've come to the right page. This page gives you  an intuition about how a neural network actually functions and the code that is necessary to run it. Also, I feel that people are directly jumping into some of the deep learning frameworks and libraries such as** tensorflow**, **keras** and **caffe** without gaining an intuition and the steps in which they operate to solve a particular machine learning problem. The main purpose of this page creation is to provide the reader with right knowledge and the steps that a neural network algorithm takes to solve a particular problem.\n",
    "\n",
    "In general, people use some of the deep learning libraries such as **tensorflow**, **keras** and **caffe** to name a few. What they don't realize is how these models work in the backend.** I've written the code from scratch** so that even a person who is new to machine learning and deep learning could get a sense as to how the algorithm functions and the flow of logic and the code.\n",
    "\n",
    "In the code below, there are various functions included and their definitions given so that the reader can understand the block of code. As these functions are defined, they would later be called in the main function that executes the code overall. The former functions are called \"helper functions\" while the function that is used to execute these helper functions is called \"master function\" or \"main function\". \n",
    "\n",
    "We would go in a sequence of steps. We would first initialize the weights, apply forward propagation and load some of the constants in cache, apply back propagation and finally, update the parameters. Later, we would run the code in the main function and then design a prediction function that would take certain input parameters and give us an output as to whether a person would be admitted in a university or not.\n",
    "\n",
    "By the way, this model that I've designed from scratch doesn't use some of the deep learning frameworks like **tensorfow** and** keras**. It was able to predict whether a person would be admitted to a university or not with **93% test accuracy**. And there were very few issues with either the overfitting or the underfitting. \n",
    "\n",
    "Let's get started in the machine learing project using **deep neural networks from scratch** without deep learning libraries such as tensorflow, keras and theano!!!!!!"
   ]
  },
  {
   "cell_type": "code",
   "execution_count": 1,
   "metadata": {
    "_cell_guid": "b1076dfc-b9ad-4769-8c92-a6c4dae69d19",
    "_uuid": "8f2839f25d086af736a60e9eeb907d3b93b6e0e5"
   },
   "outputs": [],
   "source": [
    "import numpy as np                                 #importing the standard library for scientific calculation\n",
    "import seaborn as sns                              #importing interative plotting library\n",
    "import matplotlib.pyplot as plt                    #importing a plotting library\n",
    "import pandas as pd                                #importing this library to read and store files\n",
    "from sklearn.model_selection import train_test_split  #this is used to split the data into training and test set\n",
    "from sklearn.metrics import classification_report, confusion_matrix   #These are some of the testing metrics we would be using in the course of our program"
   ]
  },
  {
   "cell_type": "markdown",
   "metadata": {
    "_uuid": "4b90ac39a9eeaa32b2bc838bf35feac4c0e6bfba"
   },
   "source": [
    "Here, we would basically define **relu** and** sigmoid** activation functions. In addition to this, we are also defining the **backward relu** and **sigmoid** functions that are used to compute the derivatives with respect to the cost while using back propagation. "
   ]
  },
  {
   "cell_type": "code",
   "execution_count": 2,
   "metadata": {
    "_uuid": "d5e8981280a67c16e33fcf4d98e573e21e20065c"
   },
   "outputs": [],
   "source": [
    "def sigmoid(Z):                                   #defining the sigmoid function that we would use in the later parts of the code\n",
    "    \"\"\"\n",
    "    Implements the sigmoid activation in numpy\n",
    "    \n",
    "    Arguments:\n",
    "    Z -- numpy array of any shape\n",
    "    \n",
    "    Returns:\n",
    "    A -- output of sigmoid(z), same shape as Z\n",
    "    cache -- returns Z as well, useful during backpropagation\n",
    "    \"\"\"\n",
    "    \n",
    "    A = 1/(1+np.exp(-Z))                          #This is the definition of sigmoid function\n",
    "    cache = Z                                     #Storing some values in cache which could be used in back propagation later\n",
    "    \n",
    "    return A, cache                               #Returning the cache and the activation A\n",
    "\n",
    "def relu(Z):                                      #Defining relu function that is used in various layers\n",
    "    \"\"\"\n",
    "    Implement the RELU function.\n",
    "\n",
    "    Arguments:\n",
    "    Z -- Output of the linear layer, of any shape\n",
    "\n",
    "    Returns:\n",
    "    A -- Post-activation parameter, of the same shape as Z\n",
    "    cache -- a python dictionary containing \"A\" ; stored for computing the backward pass efficiently\n",
    "    \"\"\"\n",
    "    \n",
    "    A = np.maximum(0,Z)                         #Definition of relu\n",
    "    \n",
    "    assert(A.shape == Z.shape)                  #Ensuring that the shape stays consistent\n",
    "    \n",
    "    cache = Z                                   #storing the value Z in cache which would later be used in deep neural networks\n",
    "    return A, cache                             #returning the value of cache and activation\n",
    "\n",
    "\n",
    "def relu_backward(dA, cache):                   #This is used for taking the derivatives of relu while using back propagation\n",
    "    \"\"\"\n",
    "    Implement the backward propagation for a single RELU unit.\n",
    "\n",
    "    Arguments:\n",
    "    dA -- post-activation gradient, of any shape\n",
    "    cache -- 'Z' where we store for computing backward propagation efficiently\n",
    "\n",
    "    Returns:\n",
    "    dZ -- Gradient of the cost with respect to Z\n",
    "    \"\"\"\n",
    "    \n",
    "    Z = cache                                  #Storing the values in cache\n",
    "    dZ = np.array(dA, copy=True) # just converting dz to a correct object. \n",
    "    \n",
    "    # When z <= 0, you should set dz to 0 as well. \n",
    "    dZ[Z <= 0] = 0\n",
    "    \n",
    "    assert (dZ.shape == Z.shape)\n",
    "    \n",
    "    return dZ\n",
    "\n",
    "def sigmoid_backward(dA, cache):      #This is used for sigmoid backward function and in backpropagation\n",
    "    \"\"\"\n",
    "    Implement the backward propagation for a single SIGMOID unit.\n",
    "\n",
    "    Arguments:\n",
    "    dA -- post-activation gradient, of any shape\n",
    "    cache -- 'Z' where we store for computing backward propagation efficiently\n",
    "\n",
    "    Returns:\n",
    "    dZ -- Gradient of the cost with respect to Z\n",
    "    \"\"\"\n",
    "    \n",
    "    Z = cache \n",
    "    \n",
    "    s = 1/(1+np.exp(-Z))\n",
    "    dZ = dA * s * (1-s)                 #This is the derivative which would later be returned\n",
    "    \n",
    "    assert (dZ.shape == Z.shape)        #Ensuring that the shape stays consistent\n",
    "    \n",
    "    return dZ\n",
    "\n"
   ]
  },
  {
   "cell_type": "markdown",
   "metadata": {
    "_uuid": "7899692992734b5d63a1e3d91b6fa25eff152e29"
   },
   "source": [
    "Now, I would be importing the data and store it in df. This consists of the** Graduate Admissions File**."
   ]
  },
  {
   "cell_type": "code",
   "execution_count": 3,
   "metadata": {
    "_uuid": "8f468a55d3674bd8f19880ca51fb60721a7b57fb"
   },
   "outputs": [],
   "source": [
    "df = pd.read_csv('../input/Admission_Predict_Ver1.1.csv')"
   ]
  },
  {
   "cell_type": "markdown",
   "metadata": {
    "_uuid": "79381e838e2035f9b03c73a22f94f0337f16d755"
   },
   "source": [
    "Here, we would be looking at the first 5 rows to get an idea about the data set and understand it much better."
   ]
  },
  {
   "cell_type": "code",
   "execution_count": 4,
   "metadata": {
    "_uuid": "cda4f43c58cceee7fbae1885ccfb00c6fa887af9"
   },
   "outputs": [
    {
     "data": {
      "text/html": [
       "<div>\n",
       "<style scoped>\n",
       "    .dataframe tbody tr th:only-of-type {\n",
       "        vertical-align: middle;\n",
       "    }\n",
       "\n",
       "    .dataframe tbody tr th {\n",
       "        vertical-align: top;\n",
       "    }\n",
       "\n",
       "    .dataframe thead th {\n",
       "        text-align: right;\n",
       "    }\n",
       "</style>\n",
       "<table border=\"1\" class=\"dataframe\">\n",
       "  <thead>\n",
       "    <tr style=\"text-align: right;\">\n",
       "      <th></th>\n",
       "      <th>Serial No.</th>\n",
       "      <th>GRE Score</th>\n",
       "      <th>TOEFL Score</th>\n",
       "      <th>University Rating</th>\n",
       "      <th>SOP</th>\n",
       "      <th>LOR</th>\n",
       "      <th>CGPA</th>\n",
       "      <th>Research</th>\n",
       "      <th>Chance of Admit</th>\n",
       "    </tr>\n",
       "  </thead>\n",
       "  <tbody>\n",
       "    <tr>\n",
       "      <th>0</th>\n",
       "      <td>1</td>\n",
       "      <td>337</td>\n",
       "      <td>118</td>\n",
       "      <td>4</td>\n",
       "      <td>4.5</td>\n",
       "      <td>4.5</td>\n",
       "      <td>9.65</td>\n",
       "      <td>1</td>\n",
       "      <td>0.92</td>\n",
       "    </tr>\n",
       "    <tr>\n",
       "      <th>1</th>\n",
       "      <td>2</td>\n",
       "      <td>324</td>\n",
       "      <td>107</td>\n",
       "      <td>4</td>\n",
       "      <td>4.0</td>\n",
       "      <td>4.5</td>\n",
       "      <td>8.87</td>\n",
       "      <td>1</td>\n",
       "      <td>0.76</td>\n",
       "    </tr>\n",
       "    <tr>\n",
       "      <th>2</th>\n",
       "      <td>3</td>\n",
       "      <td>316</td>\n",
       "      <td>104</td>\n",
       "      <td>3</td>\n",
       "      <td>3.0</td>\n",
       "      <td>3.5</td>\n",
       "      <td>8.00</td>\n",
       "      <td>1</td>\n",
       "      <td>0.72</td>\n",
       "    </tr>\n",
       "    <tr>\n",
       "      <th>3</th>\n",
       "      <td>4</td>\n",
       "      <td>322</td>\n",
       "      <td>110</td>\n",
       "      <td>3</td>\n",
       "      <td>3.5</td>\n",
       "      <td>2.5</td>\n",
       "      <td>8.67</td>\n",
       "      <td>1</td>\n",
       "      <td>0.80</td>\n",
       "    </tr>\n",
       "    <tr>\n",
       "      <th>4</th>\n",
       "      <td>5</td>\n",
       "      <td>314</td>\n",
       "      <td>103</td>\n",
       "      <td>2</td>\n",
       "      <td>2.0</td>\n",
       "      <td>3.0</td>\n",
       "      <td>8.21</td>\n",
       "      <td>0</td>\n",
       "      <td>0.65</td>\n",
       "    </tr>\n",
       "  </tbody>\n",
       "</table>\n",
       "</div>"
      ],
      "text/plain": [
       "   Serial No.  GRE Score        ...         Research  Chance of Admit \n",
       "0           1        337        ...                1              0.92\n",
       "1           2        324        ...                1              0.76\n",
       "2           3        316        ...                1              0.72\n",
       "3           4        322        ...                1              0.80\n",
       "4           5        314        ...                0              0.65\n",
       "\n",
       "[5 rows x 9 columns]"
      ]
     },
     "execution_count": 4,
     "metadata": {},
     "output_type": "execute_result"
    }
   ],
   "source": [
    "df.head()"
   ]
  },
  {
   "cell_type": "markdown",
   "metadata": {
    "_uuid": "80e9f2c832f54772af2e885594c33d08a4e2f7d3"
   },
   "source": [
    "Having a look at various columns that are necessary and understanding the dataset better."
   ]
  },
  {
   "cell_type": "code",
   "execution_count": 5,
   "metadata": {
    "_cell_guid": "79c7e3d0-c299-4dcb-8224-4455121ee9b0",
    "_uuid": "d629ff2d2480ee46fbb7e2d37f6b5fab8052498a"
   },
   "outputs": [
    {
     "data": {
      "text/plain": [
       "Index(['Serial No.', 'GRE Score', 'TOEFL Score', 'University Rating', 'SOP',\n",
       "       'LOR ', 'CGPA', 'Research', 'Chance of Admit '],\n",
       "      dtype='object')"
      ]
     },
     "execution_count": 5,
     "metadata": {},
     "output_type": "execute_result"
    }
   ],
   "source": [
    "df.columns"
   ]
  },
  {
   "cell_type": "markdown",
   "metadata": {
    "_uuid": "d8a5e48ddc7fe7beb8820b2f17288e81e5d564a3"
   },
   "source": [
    "We would be counting the number of students with various university ratings i.e. the ratings in which the students have pursued their studies. By looking at the result below, we can conclude that very few students have actually pursued their education in top - tier universities. A whole lot of students have their education in tier - 3 universities. "
   ]
  },
  {
   "cell_type": "code",
   "execution_count": 6,
   "metadata": {
    "_uuid": "fda8a9abf5fda3940e5ecc417f6c05ecf406b18b"
   },
   "outputs": [
    {
     "data": {
      "text/plain": [
       "3    162\n",
       "2    126\n",
       "4    105\n",
       "5     73\n",
       "1     34\n",
       "Name: University Rating, dtype: int64"
      ]
     },
     "execution_count": 6,
     "metadata": {},
     "output_type": "execute_result"
    }
   ],
   "source": [
    "df['University Rating'].value_counts()"
   ]
  },
  {
   "cell_type": "markdown",
   "metadata": {
    "_uuid": "2693fd9d8ee49335585ed0c59b7279e3c2656203"
   },
   "source": [
    "Let us also count the number of students with gradings on their SOP. From the result, we can see that most of the students got a score of about 4.0 in their SOP. Apart from this, 6 students got an SOP score of 1.0 which is quite rare in general. The average case would be for the students who got around 4.5. Wow!! That means most of the students are perfect in writing the SOPs."
   ]
  },
  {
   "cell_type": "code",
   "execution_count": 7,
   "metadata": {
    "_uuid": "2c6b690e8ae633ac114d648e82b327020a47a908"
   },
   "outputs": [
    {
     "data": {
      "text/plain": [
       "4.0    89\n",
       "3.5    88\n",
       "3.0    80\n",
       "2.5    64\n",
       "4.5    63\n",
       "2.0    43\n",
       "5.0    42\n",
       "1.5    25\n",
       "1.0     6\n",
       "Name: SOP, dtype: int64"
      ]
     },
     "execution_count": 7,
     "metadata": {},
     "output_type": "execute_result"
    }
   ],
   "source": [
    "df['SOP'].value_counts()"
   ]
  },
  {
   "cell_type": "markdown",
   "metadata": {
    "_uuid": "cb9d06f464e6e7cef8f15bac271b597dae5e4353"
   },
   "source": [
    "We will also be plotting a distribution plot. It would give us a rough estimate as to how the data is spread. We use seaborn in this example to get an intutive sense of how the data is spread.\n",
    "As can be seen from the graph, most of the students have a score range between 3.5 and 4. In addition, the students who have a score of 4.5 in their SOP are also relatively high. "
   ]
  },
  {
   "cell_type": "code",
   "execution_count": 8,
   "metadata": {
    "_uuid": "2873a28304cc381f953948c2f2175023f42b2dc5"
   },
   "outputs": [
    {
     "name": "stderr",
     "output_type": "stream",
     "text": [
      "/opt/conda/lib/python3.6/site-packages/scipy/stats/stats.py:1713: FutureWarning: Using a non-tuple sequence for multidimensional indexing is deprecated; use `arr[tuple(seq)]` instead of `arr[seq]`. In the future this will be interpreted as an array index, `arr[np.array(seq)]`, which will result either in an error or a different result.\n",
      "  return np.add.reduce(sorted[indexer] * weights, axis=axis) / sumval\n"
     ]
    },
    {
     "data": {
      "text/plain": [
       "<matplotlib.axes._subplots.AxesSubplot at 0x7f267ae06940>"
      ]
     },
     "execution_count": 8,
     "metadata": {},
     "output_type": "execute_result"
    },
    {
     "data": {
      "image/png": "[encoded data removed]",
      "text/plain": [
       "<Figure size 432x288 with 1 Axes>"
      ]
     },
     "metadata": {},
     "output_type": "display_data"
    }
   ],
   "source": [
    "sns.color_palette(\"Paired\")\n",
    "sns.distplot(df['SOP'], color = 'brown')"
   ]
  },
  {
   "cell_type": "markdown",
   "metadata": {
    "_uuid": "e5df91c073f0aecfcdd5c449c46c13dd01b4a881"
   },
   "source": [
    "We would also count the number of students with various LOR (Letter of recommendation) scores. We can see from the data below that there are a whole lot of students having a score of 3.0 in their LORs respectively. Apart from this, there are quite a lot of people who have 5.0 in their LORs which is brilliant. Based on this, we can conclude that most of the students have 5.0 in their LORs and 4.5 in their SOPs. That means these students must be brilliant. "
   ]
  },
  {
   "cell_type": "code",
   "execution_count": 9,
   "metadata": {
    "_uuid": "366773bb8e0680a8c6f2bc8633f441f3be0ce709"
   },
   "outputs": [
    {
     "data": {
      "text/plain": [
       "3.0    99\n",
       "4.0    94\n",
       "3.5    86\n",
       "4.5    63\n",
       "5.0    50\n",
       "2.5    50\n",
       "2.0    46\n",
       "1.5    11\n",
       "1.0     1\n",
       "Name: LOR , dtype: int64"
      ]
     },
     "execution_count": 9,
     "metadata": {},
     "output_type": "execute_result"
    }
   ],
   "source": [
    "df['LOR '].value_counts()"
   ]
  },
  {
   "cell_type": "markdown",
   "metadata": {
    "_uuid": "cf50b3ca2f66055616ac5821af4c0d25f80ef73f"
   },
   "source": [
    "We would also plot  the distribution plot for these graphs. We would see how the information is spread about the mean and identify the outliers in the data. \n",
    "We can easily observe from the data that there is onle a single student who has an LOR score of 1.0 who is an outlier. In addition to this, looking at the far end of the spectrum, we find that there are quite a lot of students who have an LOR score of 5.0 "
   ]
  },
  {
   "cell_type": "code",
   "execution_count": 10,
   "metadata": {
    "_uuid": "77885a8ae1fc64fde2bfa295641ae2db6f6b4ca8"
   },
   "outputs": [
    {
     "name": "stderr",
     "output_type": "stream",
     "text": [
      "/opt/conda/lib/python3.6/site-packages/scipy/stats/stats.py:1713: FutureWarning: Using a non-tuple sequence for multidimensional indexing is deprecated; use `arr[tuple(seq)]` instead of `arr[seq]`. In the future this will be interpreted as an array index, `arr[np.array(seq)]`, which will result either in an error or a different result.\n",
      "  return np.add.reduce(sorted[indexer] * weights, axis=axis) / sumval\n"
     ]
    },
    {
     "data": {
      "text/plain": [
       "<matplotlib.axes._subplots.AxesSubplot at 0x7f267acdbc18>"
      ]
     },
     "execution_count": 10,
     "metadata": {},
     "output_type": "execute_result"
    },
    {
     "data": {
      "image/png": "[encoded data removed]",
      "text/plain": [
       "<Figure size 432x288 with 1 Axes>"
      ]
     },
     "metadata": {},
     "output_type": "display_data"
    }
   ],
   "source": [
    "sns.distplot(df['LOR '], color = 'darkorange')"
   ]
  },
  {
   "cell_type": "markdown",
   "metadata": {
    "_uuid": "ec29b1afd2600fc822598e9db67b9948f683772a"
   },
   "source": [
    "This just gives a representation of the last five rows of the dataset."
   ]
  },
  {
   "cell_type": "code",
   "execution_count": 11,
   "metadata": {
    "_uuid": "0432fdb62f472a12c4293ac0c61b68a5a0ee41f0"
   },
   "outputs": [
    {
     "data": {
      "text/html": [
       "<div>\n",
       "<style scoped>\n",
       "    .dataframe tbody tr th:only-of-type {\n",
       "        vertical-align: middle;\n",
       "    }\n",
       "\n",
       "    .dataframe tbody tr th {\n",
       "        vertical-align: top;\n",
       "    }\n",
       "\n",
       "    .dataframe thead th {\n",
       "        text-align: right;\n",
       "    }\n",
       "</style>\n",
       "<table border=\"1\" class=\"dataframe\">\n",
       "  <thead>\n",
       "    <tr style=\"text-align: right;\">\n",
       "      <th></th>\n",
       "      <th>Serial No.</th>\n",
       "      <th>GRE Score</th>\n",
       "      <th>TOEFL Score</th>\n",
       "      <th>University Rating</th>\n",
       "      <th>SOP</th>\n",
       "      <th>LOR</th>\n",
       "      <th>CGPA</th>\n",
       "      <th>Research</th>\n",
       "      <th>Chance of Admit</th>\n",
       "    </tr>\n",
       "  </thead>\n",
       "  <tbody>\n",
       "    <tr>\n",
       "      <th>495</th>\n",
       "      <td>496</td>\n",
       "      <td>332</td>\n",
       "      <td>108</td>\n",
       "      <td>5</td>\n",
       "      <td>4.5</td>\n",
       "      <td>4.0</td>\n",
       "      <td>9.02</td>\n",
       "      <td>1</td>\n",
       "      <td>0.87</td>\n",
       "    </tr>\n",
       "    <tr>\n",
       "      <th>496</th>\n",
       "      <td>497</td>\n",
       "      <td>337</td>\n",
       "      <td>117</td>\n",
       "      <td>5</td>\n",
       "      <td>5.0</td>\n",
       "      <td>5.0</td>\n",
       "      <td>9.87</td>\n",
       "      <td>1</td>\n",
       "      <td>0.96</td>\n",
       "    </tr>\n",
       "    <tr>\n",
       "      <th>497</th>\n",
       "      <td>498</td>\n",
       "      <td>330</td>\n",
       "      <td>120</td>\n",
       "      <td>5</td>\n",
       "      <td>4.5</td>\n",
       "      <td>5.0</td>\n",
       "      <td>9.56</td>\n",
       "      <td>1</td>\n",
       "      <td>0.93</td>\n",
       "    </tr>\n",
       "    <tr>\n",
       "      <th>498</th>\n",
       "      <td>499</td>\n",
       "      <td>312</td>\n",
       "      <td>103</td>\n",
       "      <td>4</td>\n",
       "      <td>4.0</td>\n",
       "      <td>5.0</td>\n",
       "      <td>8.43</td>\n",
       "      <td>0</td>\n",
       "      <td>0.73</td>\n",
       "    </tr>\n",
       "    <tr>\n",
       "      <th>499</th>\n",
       "      <td>500</td>\n",
       "      <td>327</td>\n",
       "      <td>113</td>\n",
       "      <td>4</td>\n",
       "      <td>4.5</td>\n",
       "      <td>4.5</td>\n",
       "      <td>9.04</td>\n",
       "      <td>0</td>\n",
       "      <td>0.84</td>\n",
       "    </tr>\n",
       "  </tbody>\n",
       "</table>\n",
       "</div>"
      ],
      "text/plain": [
       "     Serial No.  GRE Score        ...         Research  Chance of Admit \n",
       "495         496        332        ...                1              0.87\n",
       "496         497        337        ...                1              0.96\n",
       "497         498        330        ...                1              0.93\n",
       "498         499        312        ...                0              0.73\n",
       "499         500        327        ...                0              0.84\n",
       "\n",
       "[5 rows x 9 columns]"
      ]
     },
     "execution_count": 11,
     "metadata": {},
     "output_type": "execute_result"
    }
   ],
   "source": [
    "df.tail()"
   ]
  },
  {
   "cell_type": "markdown",
   "metadata": {
    "_uuid": "844488ba8ea4484f9d00509be9896984d14275f0"
   },
   "source": [
    "We would also plot a barplot to understand the relationship between the data. We take on the x-axis 'Research' column while on the y-axis 'GRE Score' to see the spread. All of these are drawn from seaborn (an interactive library to give plots).\n",
    "\n",
    "We see from the plot that those who did research during their undergraduation were actually able to score above 300 on the GRE as compared to those who didn't do research. This would slighty give us an idea that those who do research would generally be able to score well on the GRE (in most of the cases but not all). "
   ]
  },
  {
   "cell_type": "code",
   "execution_count": 12,
   "metadata": {
    "_uuid": "7f400a4bbd5478165a254097f1262cfa4d7caecf"
   },
   "outputs": [
    {
     "name": "stderr",
     "output_type": "stream",
     "text": [
      "/opt/conda/lib/python3.6/site-packages/scipy/stats/stats.py:1713: FutureWarning: Using a non-tuple sequence for multidimensional indexing is deprecated; use `arr[tuple(seq)]` instead of `arr[seq]`. In the future this will be interpreted as an array index, `arr[np.array(seq)]`, which will result either in an error or a different result.\n",
      "  return np.add.reduce(sorted[indexer] * weights, axis=axis) / sumval\n"
     ]
    },
    {
     "data": {
      "text/plain": [
       "<matplotlib.axes._subplots.AxesSubplot at 0x7f267841d9b0>"
      ]
     },
     "execution_count": 12,
     "metadata": {},
     "output_type": "execute_result"
    },
    {
     "data": {
      "image/png": "[encoded data removed]",
      "text/plain": [
       "<Figure size 432x288 with 1 Axes>"
      ]
     },
     "metadata": {},
     "output_type": "display_data"
    }
   ],
   "source": [
    "sns.barplot(x = 'Research', y = 'GRE Score', data = df)"
   ]
  },
  {
   "cell_type": "markdown",
   "metadata": {
    "_uuid": "7db665bc5150629008cab8a087017214f18fd91f"
   },
   "source": [
    "We would also use joint plot from seaborn to look at the visualization. It clearly shows that as the 'GRE Score' increases, there is also an increase in the 'TOEFL Score'. There might be some outliers like a person scoring a 290 on the GRE but getting a 105 (approx) on the TOEFL. But those exceptions are rare. The output is pretty much a straight like mostly with some outliers in between. "
   ]
  },
  {
   "cell_type": "code",
   "execution_count": 13,
   "metadata": {
    "_uuid": "586fa660ce3e3d2dd89b11d456180a9199c72613"
   },
   "outputs": [
    {
     "name": "stderr",
     "output_type": "stream",
     "text": [
      "/opt/conda/lib/python3.6/site-packages/scipy/stats/stats.py:1713: FutureWarning: Using a non-tuple sequence for multidimensional indexing is deprecated; use `arr[tuple(seq)]` instead of `arr[seq]`. In the future this will be interpreted as an array index, `arr[np.array(seq)]`, which will result either in an error or a different result.\n",
      "  return np.add.reduce(sorted[indexer] * weights, axis=axis) / sumval\n"
     ]
    },
    {
     "data": {
      "text/plain": [
       "<seaborn.axisgrid.JointGrid at 0x7f26783f3eb8>"
      ]
     },
     "execution_count": 13,
     "metadata": {},
     "output_type": "execute_result"
    },
    {
     "data": {
      "image/png": "[encoded data removed]",
      "text/plain": [
       "<Figure size 432x432 with 3 Axes>"
      ]
     },
     "metadata": {},
     "output_type": "display_data"
    }
   ],
   "source": [
    "sns.jointplot(x = 'TOEFL Score', y = 'GRE Score', color = 'darkblue', data = df)"
   ]
  },
  {
   "cell_type": "markdown",
   "metadata": {
    "_uuid": "b772199c7e25d312b94d523d4348988b6f4d9067"
   },
   "source": [
    "Here, I've plotted a kde plot which shows the density of the dataset. The darker the region, the more dense is the data present at those points. What it means is most of the data that is given is concentrated at that region. For example, when we look at the first dark circle (sort of), we can say that most of the students scored between 310 - 315 on the GRE and 105 - 110 on the TOEFL. The similar result is true for the other dark region. If the region is light, it means that there is not much data available for those points. "
   ]
  },
  {
   "cell_type": "code",
   "execution_count": 14,
   "metadata": {
    "_uuid": "c26f124460c5bc5603e86eda70b040d7181dfc8a"
   },
   "outputs": [
    {
     "name": "stderr",
     "output_type": "stream",
     "text": [
      "/opt/conda/lib/python3.6/site-packages/scipy/stats/stats.py:1713: FutureWarning: Using a non-tuple sequence for multidimensional indexing is deprecated; use `arr[tuple(seq)]` instead of `arr[seq]`. In the future this will be interpreted as an array index, `arr[np.array(seq)]`, which will result either in an error or a different result.\n",
      "  return np.add.reduce(sorted[indexer] * weights, axis=axis) / sumval\n"
     ]
    },
    {
     "data": {
      "text/plain": [
       "<seaborn.axisgrid.JointGrid at 0x7f26782cf320>"
      ]
     },
     "execution_count": 14,
     "metadata": {},
     "output_type": "execute_result"
    },
    {
     "data": {
      "image/png": "[encoded data removed]",
      "text/plain": [
       "<Figure size 432x432 with 3 Axes>"
      ]
     },
     "metadata": {},
     "output_type": "display_data"
    }
   ],
   "source": [
    "sns.jointplot(x = 'TOEFL Score', y = 'GRE Score', kind = 'kde', data = df, color = 'pink')"
   ]
  },
  {
   "cell_type": "markdown",
   "metadata": {
    "_uuid": "b1f5a151b3e61554978dce214cacdee81d71a410"
   },
   "source": [
    "The below plot is a hex plot that shows relationship between 'CGPA' on the x-axis and 'GRE Score' on the y-axis. There is clearly a linear trend when we look at the plot. As the CGPA increases, the higher would be the GRE Score (most of the cases). Similar to a kde plot, the darker the region, more is the density of the data points given in the data set. Most of the students present in the dataset scored somewhere around 320 on the GRE and have a CGPA of 8.8. Additionally, there are a very few students who scored between 290 and 300 and then, got a 7.5 CGPA."
   ]
  },
  {
   "cell_type": "code",
   "execution_count": 15,
   "metadata": {
    "_uuid": "9a25002f1c1cb155abdd5a1b42349fb010e273c3"
   },
   "outputs": [
    {
     "name": "stderr",
     "output_type": "stream",
     "text": [
      "/opt/conda/lib/python3.6/site-packages/scipy/stats/stats.py:1713: FutureWarning: Using a non-tuple sequence for multidimensional indexing is deprecated; use `arr[tuple(seq)]` instead of `arr[seq]`. In the future this will be interpreted as an array index, `arr[np.array(seq)]`, which will result either in an error or a different result.\n",
      "  return np.add.reduce(sorted[indexer] * weights, axis=axis) / sumval\n"
     ]
    },
    {
     "data": {
      "text/plain": [
       "<seaborn.axisgrid.JointGrid at 0x7f2678182940>"
      ]
     },
     "execution_count": 15,
     "metadata": {},
     "output_type": "execute_result"
    },
    {
     "data": {
      "image/png": "[encoded data removed]",
      "text/plain": [
       "<Figure size 432x432 with 3 Axes>"
      ]
     },
     "metadata": {},
     "output_type": "display_data"
    }
   ],
   "source": [
    "sns.jointplot(x = 'CGPA', y = 'GRE Score', kind = 'hex', data = df)"
   ]
  },
  {
   "cell_type": "markdown",
   "metadata": {
    "_uuid": "25ab3631b7543f5427e88210fd00709c8df2600a"
   },
   "source": [
    "We see a green line from the start to the finish. This is a regression plot; this plot gives an approximate relationship between the parameters on the x-axis and the y-axis.As we can see, there is a linear relationship between the independant and dependant variable. "
   ]
  },
  {
   "cell_type": "code",
   "execution_count": 16,
   "metadata": {
    "_uuid": "8420fa254c0bc96a9517befc662b5b699cfc6514"
   },
   "outputs": [
    {
     "name": "stderr",
     "output_type": "stream",
     "text": [
      "/opt/conda/lib/python3.6/site-packages/scipy/stats/stats.py:1713: FutureWarning: Using a non-tuple sequence for multidimensional indexing is deprecated; use `arr[tuple(seq)]` instead of `arr[seq]`. In the future this will be interpreted as an array index, `arr[np.array(seq)]`, which will result either in an error or a different result.\n",
      "  return np.add.reduce(sorted[indexer] * weights, axis=axis) / sumval\n"
     ]
    },
    {
     "data": {
      "text/plain": [
       "<seaborn.axisgrid.JointGrid at 0x7f26782a70b8>"
      ]
     },
     "execution_count": 16,
     "metadata": {},
     "output_type": "execute_result"
    },
    {
     "data": {
      "image/png": "[encoded data removed]",
      "text/plain": [
       "<Figure size 432x432 with 3 Axes>"
      ]
     },
     "metadata": {},
     "output_type": "display_data"
    }
   ],
   "source": [
    "sns.jointplot(x = 'TOEFL Score', y = 'GRE Score', kind = 'reg', data = df, color = 'g')"
   ]
  },
  {
   "cell_type": "code",
   "execution_count": 17,
   "metadata": {
    "_uuid": "d75914a5d898f435b62a48bb65280e530cc5d31e"
   },
   "outputs": [
    {
     "name": "stderr",
     "output_type": "stream",
     "text": [
      "/opt/conda/lib/python3.6/site-packages/scipy/stats/stats.py:1713: FutureWarning: Using a non-tuple sequence for multidimensional indexing is deprecated; use `arr[tuple(seq)]` instead of `arr[seq]`. In the future this will be interpreted as an array index, `arr[np.array(seq)]`, which will result either in an error or a different result.\n",
      "  return np.add.reduce(sorted[indexer] * weights, axis=axis) / sumval\n"
     ]
    },
    {
     "data": {
      "text/plain": [
       "<seaborn.axisgrid.JointGrid at 0x7f2677fb7198>"
      ]
     },
     "execution_count": 17,
     "metadata": {},
     "output_type": "execute_result"
    },
    {
     "data": {
      "image/png": "[encoded data removed]",
      "text/plain": [
       "<Figure size 432x432 with 3 Axes>"
      ]
     },
     "metadata": {},
     "output_type": "display_data"
    }
   ],
   "source": [
    "sns.jointplot(x = 'SOP', y = 'LOR ', kind = 'kde', color = 'g', data = df)"
   ]
  },
  {
   "cell_type": "code",
   "execution_count": 18,
   "metadata": {
    "_uuid": "49d4607c423f90ab9ab2c076170d5428e2c34ffe"
   },
   "outputs": [
    {
     "name": "stderr",
     "output_type": "stream",
     "text": [
      "/opt/conda/lib/python3.6/site-packages/scipy/stats/stats.py:1713: FutureWarning: Using a non-tuple sequence for multidimensional indexing is deprecated; use `arr[tuple(seq)]` instead of `arr[seq]`. In the future this will be interpreted as an array index, `arr[np.array(seq)]`, which will result either in an error or a different result.\n",
      "  return np.add.reduce(sorted[indexer] * weights, axis=axis) / sumval\n"
     ]
    },
    {
     "data": {
      "text/plain": [
       "<seaborn.axisgrid.JointGrid at 0x7f2677f045f8>"
      ]
     },
     "execution_count": 18,
     "metadata": {},
     "output_type": "execute_result"
    },
    {
     "data": {
      "image/png": "[encoded data removed]",
      "text/plain": [
       "<Figure size 432x432 with 3 Axes>"
      ]
     },
     "metadata": {},
     "output_type": "display_data"
    }
   ],
   "source": [
    "sns.jointplot(x = 'SOP', y = 'LOR ', kind = 'hex', color = 'r', data = df)"
   ]
  },
  {
   "cell_type": "code",
   "execution_count": 19,
   "metadata": {
    "_uuid": "fdc1749590d7dcdf68e9adc2f1a9322601539630"
   },
   "outputs": [
    {
     "data": {
      "text/plain": [
       "Index(['Serial No.', 'GRE Score', 'TOEFL Score', 'University Rating', 'SOP',\n",
       "       'LOR ', 'CGPA', 'Research', 'Chance of Admit '],\n",
       "      dtype='object')"
      ]
     },
     "execution_count": 19,
     "metadata": {},
     "output_type": "execute_result"
    }
   ],
   "source": [
    "df.columns"
   ]
  },
  {
   "cell_type": "code",
   "execution_count": 20,
   "metadata": {
    "_uuid": "c50d0a7188db99e3eb21d59f40c210b601b7685c"
   },
   "outputs": [
    {
     "name": "stdout",
     "output_type": "stream",
     "text": [
      "the shape of the input is (7, 500)\n",
      "the shape of the output is (1, 500)\n",
      "the shape of the input training set is (7, 335)\n",
      "the shape of the output training set is (1, 335)\n",
      "the shape of the input training set is (7, 165)\n",
      "the shape of the output training set is (1, 165)\n"
     ]
    }
   ],
   "source": [
    "X = df.drop(['Chance of Admit ', 'Serial No.'], axis = 1) #here we would drop the columns that are not necessary for the input such as the serial number and chance of admit\n",
    "y = df['Chance of Admit ']                                #we would just require the ouput to be Chance of Admit\n",
    "X_train, X_test, y_train, y_test = train_test_split(X, y, test_size = 0.33, random_state = 101)  #we are dividing the input along with the output into training and testing set\n",
    "X_train = X_train.T                                  #We take the transpose of the training set for simplicity\n",
    "X_test = X_test.T                                    #We take the transpose of the testing set for simplicity\n",
    "y_train = y_train[:, np.newaxis]                     #We want to convert it into a n-dimensional vector\n",
    "y_test = y_test[:, np.newaxis]                       #We convert it to n-dimensional vector\n",
    "y_train = y_train.T                                  #We take the transpose for simplicity\n",
    "y_test = y_test.T                                    #We take the transpose for simplicity\n",
    "y = y[:, np.newaxis]\n",
    "X = X.T                                              #We take the transpose for simplicity\n",
    "y = y.T                                              #We take the transpose for simplicity\n",
    "print('the shape of the input is {}'.format(X.shape))    #here we would print the shape of the input\n",
    "print('the shape of the output is {}'.format(y.shape))   #printing the shape of the output\n",
    "print('the shape of the input training set is {}'.format(X_train.shape))  #printing the shape of input training set\n",
    "print('the shape of the output training set is {}'.format(y_train.shape)) #printing the shape of output training set\n",
    "print('the shape of the input training set is {}'.format(X_test.shape))   #printing the shape of input testing set\n",
    "print('the shape of the output training set is {}'.format(y_test.shape))  #printing the shape of output testing set"
   ]
  },
  {
   "cell_type": "code",
   "execution_count": 21,
   "metadata": {
    "_uuid": "f3a733e06e05bc6dd6e515a02f7c0819a2367e49"
   },
   "outputs": [],
   "source": [
    "def initialize_parameters(n_x, n_h, n_y):     #this is a function used to initialize the weights and biases\n",
    "    w1 = np.random.randn(n_h, n_x) * 0.01     #we use xavier initialization in this process \n",
    "    b1 = np.zeros((n_h, 1))                   #we create an array of zeroes\n",
    "    w2 = np.random.randn(n_y, n_h) * 0.01     #we use xavier initialization in this process\n",
    "    b2 = np.zeros((n_y, 1))                   #we create an array of zeroes\n",
    "    parameters = {\"w1\": w1, \"b1\": b1, \"w2\": w2, \"b2\": b2}  #we load these parameters into a dictionary so that they can be used later\n",
    "    return parameters                         #we return the parameters to the function "
   ]
  },
  {
   "cell_type": "code",
   "execution_count": 22,
   "metadata": {
    "_uuid": "00cc62733c86fbd7114edfdcc609d2fdcb766b6c"
   },
   "outputs": [],
   "source": [
    "def initialize_parameters_deep(layer_dims):   #This function is used to create weights and biases for all the L layers in the neural network\n",
    "    L = len(layer_dims)                       #We take the dimensions of the input in the function\n",
    "    parameters = {}                           #We create an empty dictionary so that it could be accessed later in the function\n",
    "    for l in range(1, L):                     #We create a for loop to iterate through all the layers\n",
    "        parameters['w' + str(l)] = np.random.randn(layer_dims[l], layer_dims[l - 1]) * 0.01  #We use xavier initialization for all the L-layers\n",
    "        parameters['b' + str(l)] = np.zeros((layer_dims[l], 1))                              #We create zeroes for the L-layer network\n",
    "    return parameters                         #We return the parameters"
   ]
  },
  {
   "cell_type": "code",
   "execution_count": 23,
   "metadata": {
    "_uuid": "d50ded7af239116585826f8959e0a743e56b2293"
   },
   "outputs": [],
   "source": [
    "def linear_forward(a, w, b):  #We propagate forward through the network in this function\n",
    "    z = np.dot(w, a) + b      #We take the dot product between the weight and the activation and add a bias to it\n",
    "    cache = (a, w, b)         #We store all these values in cache so that they could be accessed later\n",
    "    return z, cache           #We return these parameters to the function"
   ]
  },
  {
   "cell_type": "code",
   "execution_count": 24,
   "metadata": {
    "_uuid": "a9646ec8d65920bbf8984513f0e2a40ba6007f25"
   },
   "outputs": [],
   "source": [
    "def linear_activation_forward(a_prev, w, b, activation): #We create this function to calculate both the linear part and also the activation parts in the network\n",
    "    if activation == \"sigmoid\":                          #If the activation is sigmiod, we process the information using sigmoid\n",
    "        z, linear_cache = linear_forward(a_prev, w, b)   #We save the ouput in z and linear_cache\n",
    "        a, activation_cache = sigmoid(z)                 #We then apply the sigmoid to z to produce activation a\n",
    "    elif activation == \"relu\":                           #If the activation is relu, we process the information using relu\n",
    "        z, linear_cache = linear_forward(a_prev, w, b)   #We save the ouput in z and linear_cache\n",
    "        a, activation_cache = relu(z)                    #We then apply the relu to z to produce activation a\n",
    "    cache = (linear_cache, activation_cache)             #We save both the linear cache and activation cache in cache that could later be used\n",
    "    return a, cache                                      #We return both the activation and the cache"
   ]
  },
  {
   "cell_type": "code",
   "execution_count": 25,
   "metadata": {
    "_uuid": "1d44e0e354357a2fc5fef66f0faeadf361aed816"
   },
   "outputs": [],
   "source": [
    "def L_model_forward(X, parameters):\n",
    "    caches = []\n",
    "    a = X\n",
    "    L = len(parameters) // 2\n",
    "    for l in range(1, L):\n",
    "        a_prev = a\n",
    "        a, cache = linear_activation_forward(a_prev, parameters['w' + str(l)], parameters['b' + str(l)], \"relu\")\n",
    "        caches.append(cache)\n",
    "    al, cache = linear_activation_forward(a, parameters['w' + str(L)], parameters['b' + str(L)], \"sigmoid\")\n",
    "    caches.append(cache)\n",
    "    return al, caches"
   ]
  },
  {
   "cell_type": "code",
   "execution_count": 26,
   "metadata": {
    "_uuid": "8ffdf7fd903750d15683c254947652c369abe985"
   },
   "outputs": [],
   "source": [
    "def compute_cost(a, y):\n",
    "    m = y.shape[1]\n",
    "    cost = -(1 / m) * np.sum(y * np.log(a) + (1 - y) * np.log(1 - a))\n",
    "    cost = np.squeeze(cost)\n",
    "    return cost"
   ]
  },
  {
   "cell_type": "code",
   "execution_count": 27,
   "metadata": {
    "_uuid": "f761fe8cf00c468f8a02965e0fd13ed974c7a4d5"
   },
   "outputs": [],
   "source": [
    "def linear_backward(dz, cache):\n",
    "    a_prev, w, b = cache\n",
    "    m = a_prev.shape[1]\n",
    "    dw = (1 / m) * np.dot(dz, a_prev.T)\n",
    "    db = (1 / m) * np.sum(dz, axis = 1, keepdims = True)\n",
    "    da_prev = np.dot(w.T, dz)\n",
    "    return da_prev, dw, db"
   ]
  },
  {
   "cell_type": "code",
   "execution_count": 28,
   "metadata": {
    "_uuid": "01fa365dfe6ec8c72972ae342ed701a578939e07"
   },
   "outputs": [],
   "source": [
    "def linear_activation_backward(da, cache, activation):\n",
    "    linear_cache, activation_cache = cache\n",
    "    if activation == \"relu\":\n",
    "        dz = relu_backward(da, activation_cache)\n",
    "        da_prev, dw, db = linear_backward(dz, linear_cache)\n",
    "    elif activation == \"sigmoid\":\n",
    "        dz = sigmoid_backward(da, activation_cache)\n",
    "        da_prev, dw, db = linear_backward(dz, linear_cache)\n",
    "    return da_prev, dw, db\n",
    "        "
   ]
  },
  {
   "cell_type": "code",
   "execution_count": 29,
   "metadata": {
    "_uuid": "c1adc94baa47f319cbcb82c1baa75a7b1dcdd057"
   },
   "outputs": [],
   "source": [
    "def L_model_backward(al, y, caches):\n",
    "    grads = {}\n",
    "    L = len(caches)\n",
    "    m = al.shape[1]\n",
    "    y = y.reshape(al.shape)\n",
    "    dal = - (np.divide(y, al) - np.divide(1 - y, 1 - al))\n",
    "    current_cache = caches[L - 1]\n",
    "    grads[\"da\" + str(L-1)], grads[\"dw\" + str(L)], grads[\"db\" + str(L)] = linear_activation_backward(dal, current_cache, activation = \"sigmoid\")\n",
    "    for l in reversed(range(L - 1)):\n",
    "        current_cache = caches[l]\n",
    "        da_prev_temp, dw_temp, db_temp = linear_activation_backward(grads[\"da\" + str(l + 1)], current_cache, activation = \"relu\")\n",
    "        grads[\"da\" + str(l)] = da_prev_temp\n",
    "        grads[\"dw\" + str(l + 1)] = dw_temp\n",
    "        grads[\"db\" + str(l + 1)] = db_temp\n",
    "    return grads\n",
    "    \n",
    "    \n",
    "    "
   ]
  },
  {
   "cell_type": "code",
   "execution_count": 30,
   "metadata": {
    "_uuid": "b5e25b5ff11b3f3e798184a15832e168ae4cfb1a"
   },
   "outputs": [],
   "source": [
    "def update_parameters(parameters, grads, learning_rate):\n",
    "    L = len(parameters) // 2\n",
    "    for l in range(L):\n",
    "        parameters[\"w\" + str(l + 1)] = parameters[\"w\" + str(l + 1)] - learning_rate * grads[\"dw\" + str(l + 1)]\n",
    "        parameters[\"b\" + str(l + 1)] = parameters[\"b\" + str(l + 1)] - learning_rate * grads[\"db\" + str(l + 1)]\n",
    "    return parameters     "
   ]
  },
  {
   "cell_type": "code",
   "execution_count": 31,
   "metadata": {
    "_uuid": "de976c4fc1581496d945560f00af026bd2baa782"
   },
   "outputs": [],
   "source": [
    "def two_layer_model(X, y, layers_dims, learning_rate = 0.001, num_iterations = 10000, print_cost = False):\n",
    "    grads = {}\n",
    "    costs = []\n",
    "    m = X.shape[1]\n",
    "    (n_x, n_h, n_y) = layers_dims\n",
    "    parameters = initialize_parameters(n_x, n_h, n_y)\n",
    "    w1 = parameters[\"w1\"]\n",
    "    b1 = parameters[\"b1\"]\n",
    "    w2 = parameters[\"w2\"]\n",
    "    b2 = parameters[\"b2\"]\n",
    "    for i in range(0, num_iterations):\n",
    "        a1, cache1 = linear_activation_forward(X, w1, b1, activation = \"relu\")\n",
    "        a2, cache2 = linear_activation_forward(a1, w2, b2, activation = \"sigmoid\")\n",
    "        cost = compute_cost(a2, y)\n",
    "        da2 = - (np.divide(y, a2) - np.divide(1 - y, 1 - a2))\n",
    "        da1, dw2, db2 = linear_activation_backward(da2, cache2, activation = \"sigmoid\")\n",
    "        da0, dw1, db1 = linear_activation_backward(da1, cache1, activation = \"relu\")\n",
    "        grads[\"dw1\"] = dw1\n",
    "        grads[\"db1\"] = db1\n",
    "        grads[\"dw2\"] = dw2\n",
    "        grads[\"db2\"] = db2\n",
    "        parameters = update_parameters(parameters, grads, learning_rate)\n",
    "        w1 = parameters[\"w1\"]\n",
    "        b1 = parameters[\"b1\"]\n",
    "        w2 = parameters[\"w2\"]\n",
    "        b2 = parameters[\"b2\"]\n",
    "        if print_cost and i % 1000 == 0:\n",
    "            print(\"cost after iteration {}:: {}\".format(i, np.squeeze(cost)))\n",
    "        if print_cost and i % 1000 == 0:\n",
    "            costs.append(cost)\n",
    "    plt.plot(np.squeeze(costs))\n",
    "    plt.ylabel('cost')\n",
    "    plt.xlabel('iterations (per tens)')\n",
    "    plt.title(\"Learning rate =\" + str(learning_rate))\n",
    "    plt.show()\n",
    "    return parameters    "
   ]
  },
  {
   "cell_type": "code",
   "execution_count": 32,
   "metadata": {
    "_uuid": "e9ad878814cf94b1ac326968b6fc762d50e69d36"
   },
   "outputs": [],
   "source": [
    "layers_dims = [X.shape[0], 50, 25, 1]"
   ]
  },
  {
   "cell_type": "code",
   "execution_count": 33,
   "metadata": {
    "_uuid": "66a63b92b6417bd1ded5a97790d47b51004fe2ec"
   },
   "outputs": [],
   "source": [
    "def L_layer_model(X, y, layers_dims, learning_rate = 0.03, num_iterations = 3000, print_cost = False):\n",
    "    costs = []\n",
    "    parameters = initialize_parameters_deep(layers_dims)\n",
    "    for i in range(0, num_iterations):\n",
    "        al, caches = L_model_forward(X, parameters)\n",
    "        cost = compute_cost(al, y)\n",
    "        grads = L_model_backward(al, y, caches)\n",
    "        parameters = update_parameters(parameters, grads, learning_rate)\n",
    "        if print_cost and i % 1000 == 0:\n",
    "            print(\"Cost after iteration {}: {}\".format(i, cost))\n",
    "        if print_cost and i % 1000 == 0:\n",
    "            costs.append(cost)\n",
    "    plt.plot(np.squeeze(costs))\n",
    "    plt.ylabel('cost')\n",
    "    plt.xlabel('iterations (per tens)')\n",
    "    plt.title(\"Learning rate = \" + str(learning_rate))\n",
    "    plt.show()\n",
    "    return parameters"
   ]
  },
  {
   "cell_type": "code",
   "execution_count": 34,
   "metadata": {
    "_uuid": "4960763e866fb72f1dd0e88a33c94ab3d1c60f9c"
   },
   "outputs": [
    {
     "name": "stdout",
     "output_type": "stream",
     "text": [
      "Cost after iteration 0: 0.6918030394044355\n",
      "Cost after iteration 1000: 0.5892328733642906\n",
      "Cost after iteration 2000: 0.5884738835990682\n",
      "Cost after iteration 3000: 0.5871504941952223\n",
      "Cost after iteration 4000: 0.5855568218942181\n",
      "Cost after iteration 5000: 0.5840069686245093\n",
      "Cost after iteration 6000: 0.5825813158676274\n",
      "Cost after iteration 7000: 0.5813033096286458\n",
      "Cost after iteration 8000: 0.5801577711257774\n",
      "Cost after iteration 9000: 0.5791704848485996\n",
      "Cost after iteration 10000: 0.5783048076161343\n",
      "Cost after iteration 11000: 0.5775343397140469\n",
      "Cost after iteration 12000: 0.5768289401326852\n",
      "Cost after iteration 13000: 0.5761390851709246\n",
      "Cost after iteration 14000: 0.5755216347746036\n",
      "Cost after iteration 15000: 0.5745105617740095\n",
      "Cost after iteration 16000: 0.5743043218844157\n",
      "Cost after iteration 17000: 0.5734904047525259\n",
      "Cost after iteration 18000: 0.5729176545251956\n",
      "Cost after iteration 19000: 0.572252025193032\n",
      "Cost after iteration 20000: 0.5719138269605878\n",
      "Cost after iteration 21000: 0.5714122043008005\n",
      "Cost after iteration 22000: 0.5710865146034988\n",
      "Cost after iteration 23000: 0.5707313076034178\n",
      "Cost after iteration 24000: 0.5704606055433721\n",
      "Cost after iteration 25000: 0.5703921659580257\n",
      "Cost after iteration 26000: 0.5699552054520779\n",
      "Cost after iteration 27000: 0.5696177516438733\n",
      "Cost after iteration 28000: 0.5694710890382095\n",
      "Cost after iteration 29000: 0.5697532909242903\n",
      "Cost after iteration 30000: 0.5689161092155581\n",
      "Cost after iteration 31000: 0.568725587329772\n",
      "Cost after iteration 32000: 0.568358543568478\n",
      "Cost after iteration 33000: 0.5681599766358986\n",
      "Cost after iteration 34000: 0.5683320362754135\n",
      "Cost after iteration 35000: 0.5678430239694177\n",
      "Cost after iteration 36000: 0.5673234585080462\n",
      "Cost after iteration 37000: 0.5673851040309983\n",
      "Cost after iteration 38000: 0.5674560757066612\n",
      "Cost after iteration 39000: 0.5669562025498301\n",
      "Cost after iteration 40000: 0.5668667199290514\n",
      "Cost after iteration 41000: 0.5664286672761099\n",
      "Cost after iteration 42000: 0.566496728373832\n",
      "Cost after iteration 43000: 0.5663159109618371\n",
      "Cost after iteration 44000: 0.5662451955335626\n",
      "Cost after iteration 45000: 0.5661051556612579\n",
      "Cost after iteration 46000: 0.5660597431278407\n",
      "Cost after iteration 47000: 0.5657498077588726\n",
      "Cost after iteration 48000: 0.5658812691966101\n",
      "Cost after iteration 49000: 0.5654154064651408\n",
      "Cost after iteration 50000: 0.5655233089831639\n",
      "Cost after iteration 51000: 0.5650424659670349\n",
      "Cost after iteration 52000: 0.5648984621060457\n",
      "Cost after iteration 53000: 0.5649794334149677\n",
      "Cost after iteration 54000: 0.5648746682908665\n",
      "Cost after iteration 55000: 0.5647744411317448\n",
      "Cost after iteration 56000: 0.5646079982421846\n",
      "Cost after iteration 57000: 0.5647827576842909\n",
      "Cost after iteration 58000: 0.5643074951163946\n",
      "Cost after iteration 59000: 0.5637834322823265\n"
     ]
    },
    {
     "data": {
      "image/png": "[encoded data removed]",
      "text/plain": [
       "<Figure size 432x288 with 1 Axes>"
      ]
     },
     "metadata": {},
     "output_type": "display_data"
    }
   ],
   "source": [
    "parameters = L_layer_model(X_train, y_train, layers_dims,learning_rate = 0.05, num_iterations = 60000, print_cost = True)"
   ]
  },
  {
   "cell_type": "code",
   "execution_count": 35,
   "metadata": {
    "_uuid": "7e1810725dbd7f4301a728d861533ffafbc43272"
   },
   "outputs": [],
   "source": [
    "def predict(parameters, X):\n",
    "    a2, cache = L_model_forward(X, parameters)\n",
    "    predictions = a2\n",
    "    return predictions"
   ]
  },
  {
   "cell_type": "code",
   "execution_count": 36,
   "metadata": {
    "_uuid": "a587df9448a8a81464d2d2980530955e4fd162a7"
   },
   "outputs": [
    {
     "name": "stdout",
     "output_type": "stream",
     "text": [
      "The accuracy of the training model: 93.22101089765606%\n",
      "The accuracy of the testing model: 92.89682359017365%\n"
     ]
    }
   ],
   "source": [
    "predictions_test = predict(parameters, X_test)\n",
    "predictions_train = predict(parameters, X_train)\n",
    "print('The accuracy of the training model: {}%'.format((1 - np.sum(np.abs(predictions_train - y_train))/predictions_train.shape[1]) * 100))\n",
    "print('The accuracy of the testing model: {}%'.format((1 - np.sum(np.abs(predictions_test - y_test))/predictions_test.shape[1]) * 100))"
   ]
  },
  {
   "cell_type": "markdown",
   "metadata": {
    "_uuid": "5200a57aacce0e83e07fdd63bae6dc829310ecdd"
   },
   "source": [
    "Finally, I've created a neural network model that would likely predict the chances of admission of a person based on some of the metrics like the** GRE Score, TOEFL Score, CGPA, University Rating and so on**. The model would predict it with **93 percent (approx) accuracy**. If you want to know your chances of admission, just use the \"predict\" function and input some of the metrics that are necessary for the algorithm to predict your chances of admission. Based on that, you could get a true and almost accurate estimate of whether you would be admitted in the university or not!!!"
   ]
  },
  {
   "cell_type": "code",
   "execution_count": 37,
   "metadata": {
    "_uuid": "a17fc85a5e76fdd29e5c28fcc0bcc87e7839504d"
   },
   "outputs": [],
   "source": []
  }
 ],
 "metadata": {
  "kernelspec": {
   "display_name": "Python 3",
   "language": "python",
   "name": "python3"
  },
  "language_info": {
   "codemirror_mode": {
    "name": "ipython",
    "version": 3
   },
   "file_extension": ".py",
   "mimetype": "text/x-python",
   "name": "python",
   "nbconvert_exporter": "python",
   "pygments_lexer": "ipython3",
   "version": "3.6.6"
  }
 },
 "nbformat": 4,
 "nbformat_minor": 1
}
